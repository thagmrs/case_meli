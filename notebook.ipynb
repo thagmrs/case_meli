{
 "cells": [
  {
   "cell_type": "code",
   "execution_count": 2,
   "metadata": {},
   "outputs": [],
   "source": [
    "#importando as bibliotecas necessárias \n",
    "import pandas as pd"
   ]
  },
  {
   "cell_type": "code",
   "execution_count": 3,
   "metadata": {},
   "outputs": [],
   "source": [
    "'''\n",
    "- Leitura dos dados dos arquivos CSV e JSON - utilizando o parametro lines = True pois temos 1 JSON por linha e usando o \n",
    "r na frente da string para ignorar os caracteres de escape.\n",
    "\n",
    "- Aqui aproveito também dividir a coluna de event_data em colunas individuais para que seja possivel fazer o join das \n",
    "tabelas de forma mais fácil e precisa e poder realizar as análises a partir de uma única tabela final. Faço isso tanto \n",
    "para o df mostrado quanto para o clicado e em seguida dropo a coluna event_data, pois ela não será mais necessária e uso o\n",
    "parametro axis=1 para indicar que é uma coluna e não uma linha (axis =0)\n",
    "\n",
    "'''\n",
    "\n",
    "mostrado = pd.read_json((r'..\\case_meli\\prints.json'), lines=True)\n",
    "mostrado = mostrado.assign(\n",
    "    position=mostrado['event_data'].apply(lambda x: x['position']),\n",
    "    value_prop=mostrado['event_data'].apply(lambda x: x['value_prop'])\n",
    ").drop('event_data', axis=1)\n"
   ]
  },
  {
   "cell_type": "code",
   "execution_count": 22,
   "metadata": {},
   "outputs": [],
   "source": [
    "'''\n",
    "- Criando a coluna 'clicked' no df clicado para indicar se um value prop foi clicado ou não. Aqui atribuo o valor 1 \n",
    "(clicado) para todas as linhas sem distinção, pois entende-se que nesta origem de dados só temos informações de value props \n",
    "que foram clicados, então todos recebem o valor 1.\n",
    "\n",
    "'''\n",
    "\n",
    "clicado = pd.read_json(r'..\\case_meli\\taps.json', lines=True)\n",
    "clicado = (clicado\n",
    "        .assign(position=clicado['event_data'].apply(lambda x: x['position']),\n",
    "                value_prop=clicado['event_data'].apply(lambda x: x['value_prop']))\n",
    "        .drop('event_data', axis=1)\n",
    "        .assign(clicked=1))\n"
   ]
  },
  {
   "cell_type": "code",
   "execution_count": 28,
   "metadata": {},
   "outputs": [],
   "source": [
    "'''\n",
    "- trocando o nome da coluna pay_date para day para facilitar no join das tabelas\n",
    "'''\n",
    "pagamento = pd.read_csv(r'..\\case_meli\\pays.csv')\n",
    "pagamento = pagamento.rename(columns={'pay_date': 'day'}) "
   ]
  },
  {
   "cell_type": "code",
   "execution_count": 66,
   "metadata": {},
   "outputs": [],
   "source": [
    "'''\n",
    "Fazendo o join das 3 tabelas. Usandoo outer join para manter todos os registros de todas as tabelas, mesmo que um registro\n",
    "não esteja em uma das três, ele será mantido no df final. As colunas utilizadas como chave são as colunas que deveriam ser\n",
    "únicas para cada registro para identificar um registro único.\n",
    "'''\n",
    "df_joined = (\n",
    "    mostrado\n",
    "    .merge(pagamento, how='outer', on=['user_id', 'value_prop', 'day'])\n",
    "    .merge(clicado, how='outer', on=['user_id', 'value_prop', 'day', 'position'])\n",
    ")"
   ]
  },
  {
   "cell_type": "code",
   "execution_count": 33,
   "metadata": {},
   "outputs": [],
   "source": [
    "'''\n",
    "Para a etapa de análise, crio variáveis com as datas que precisamos para as análises:\n",
    "- data inicial da última semana (de acordo com a última data disponível na tabela)\n",
    "- data inicial da terceira semana a partir do inicio a última semana\n",
    "'''\n",
    "ult_sem = pd.to_datetime(df_joined['day']).max() - pd.Timedelta(days=7)\n",
    "tres_sem_atras = ult_sem - pd.Timedelta(weeks=3)\n"
   ]
  },
  {
   "cell_type": "code",
   "execution_count": 72,
   "metadata": {},
   "outputs": [],
   "source": [
    "'''\n",
    "Filtrando os prints da última semana e fazendo o preenchimento de nulos na coluna clicked com o valor 0 (não clicado), \n",
    "pois após realizar o join das tabelas, os registros onde não houveram match com a tabela clicado, entende-se que não\n",
    "houveram cliques.\n",
    "\n",
    "Crio uma cópia usando o .copy() para desvincular do df original\n",
    "'''\n",
    "prints_ult_sem = df_joined[pd.to_datetime(df_joined['day']) >= ult_sem].copy()\n",
    "prints_ult_sem['clicked'] = prints_ult_sem['clicked'].fillna(0).astype('int')"
   ]
  },
  {
   "cell_type": "code",
   "execution_count": 74,
   "metadata": {},
   "outputs": [
    {
     "name": "stdout",
     "output_type": "stream",
     "text": [
      "                day  user_id  position        value_prop   total  clicked\n",
      "381063   2020-11-23    69000       0.0  credits_consumer   98.59        0\n",
      "381064   2020-11-23    69000       1.0        link_cobro  152.51        0\n",
      "381065   2020-11-23    69000       2.0         transport     NaN        0\n",
      "381066   2020-11-23    69000       3.0           prepaid     NaN        0\n",
      "381067   2020-11-23    66521       0.0           prepaid     NaN        0\n",
      "...             ...      ...       ...               ...     ...      ...\n",
      "1246720  2020-11-30    74524       NaN        send_money   17.76        0\n",
      "1246721  2020-11-30    42594       NaN         transport  111.02        0\n",
      "1246722  2020-11-30     1338       NaN         transport    0.81        0\n",
      "1246723  2020-11-30     1338       NaN  credits_consumer   34.71        0\n",
      "1246724  2020-11-30    99962       NaN           prepaid   11.76        0\n",
      "\n",
      "[334550 rows x 6 columns]\n"
     ]
    }
   ],
   "source": [
    "'''\n",
    "print da analise\n",
    "'''\n",
    "print(prints_ult_sem)"
   ]
  },
  {
   "cell_type": "code",
   "execution_count": 75,
   "metadata": {},
   "outputs": [],
   "source": [
    "''' \n",
    "Filtrando os prints das últimas 3 semanas antes da última semana\n",
    "'''\n",
    "tres_sem_atras = df_joined[(pd.to_datetime(df_joined['day']) >= tres_sem_atras) & (pd.to_datetime(df_joined['day']) < ult_sem)]"
   ]
  },
  {
   "cell_type": "code",
   "execution_count": 87,
   "metadata": {},
   "outputs": [],
   "source": [
    "'''\n",
    "Agrupando os dadospara mostrar a soma da quantidade de cliques em cada value prop\n",
    "\n",
    "Colocando o tipo da variável para inteiro, pois sempre após um cálculo o python retorna uma variável como float e nesse \n",
    "caso queremos um inteiro.\n",
    "'''\n",
    "visualizado = tres_sem_atras.groupby('value_prop')['clicked'].sum().astype(int)"
   ]
  },
  {
   "cell_type": "code",
   "execution_count": 88,
   "metadata": {},
   "outputs": [
    {
     "data": {
      "text/plain": [
       "value_prop\n",
       "cellphone_recharge    5214\n",
       "credits_consumer      5230\n",
       "link_cobro            5278\n",
       "point                 5193\n",
       "prepaid               5141\n",
       "send_money            5098\n",
       "transport             5217\n",
       "Name: clicked, dtype: int32"
      ]
     },
     "execution_count": 88,
     "metadata": {},
     "output_type": "execute_result"
    }
   ],
   "source": [
    "'''\n",
    "print da analise\n",
    "'''\n",
    "visualizado"
   ]
  },
  {
   "cell_type": "code",
   "execution_count": 89,
   "metadata": {},
   "outputs": [],
   "source": [
    "'''\n",
    "Agrupando os dados por usuário e por value prop para trazer as informações de quantos cliques cada usuário fez em cada \n",
    "dos value props\n",
    "\n",
    "Trocando o tipo para inteiro também\n",
    "'''\n",
    "clicado = tres_sem_atras.groupby(['user_id', 'value_prop'])['clicked'].sum().astype(int)\n"
   ]
  },
  {
   "cell_type": "code",
   "execution_count": 90,
   "metadata": {},
   "outputs": [
    {
     "data": {
      "text/plain": [
       "user_id  value_prop      \n",
       "1        credits_consumer    0\n",
       "         link_cobro          1\n",
       "         point               0\n",
       "         prepaid             0\n",
       "         send_money          0\n",
       "                            ..\n",
       "100000   link_cobro          0\n",
       "         point               0\n",
       "         prepaid             0\n",
       "         send_money          0\n",
       "         transport           0\n",
       "Name: clicked, Length: 507190, dtype: int32"
      ]
     },
     "execution_count": 90,
     "metadata": {},
     "output_type": "execute_result"
    }
   ],
   "source": [
    "'''\n",
    "print da analise\n",
    "'''\n",
    "clicado"
   ]
  },
  {
   "cell_type": "code",
   "execution_count": 100,
   "metadata": {},
   "outputs": [],
   "source": [
    "'''\n",
    "Agrupando os dados por usuário e value prop para trazer a informação de quantos pagamentos foi realizado pelo usuário em\n",
    "cada value prop\n",
    "'''\n",
    "pago = tres_sem_atras.groupby(['user_id','value_prop']).agg({'total': 'count'})"
   ]
  },
  {
   "cell_type": "code",
   "execution_count": 117,
   "metadata": {},
   "outputs": [
    {
     "data": {
      "text/html": [
       "<div>\n",
       "<style scoped>\n",
       "    .dataframe tbody tr th:only-of-type {\n",
       "        vertical-align: middle;\n",
       "    }\n",
       "\n",
       "    .dataframe tbody tr th {\n",
       "        vertical-align: top;\n",
       "    }\n",
       "\n",
       "    .dataframe thead th {\n",
       "        text-align: right;\n",
       "    }\n",
       "</style>\n",
       "<table border=\"1\" class=\"dataframe\">\n",
       "  <thead>\n",
       "    <tr style=\"text-align: right;\">\n",
       "      <th></th>\n",
       "      <th></th>\n",
       "      <th>total</th>\n",
       "    </tr>\n",
       "    <tr>\n",
       "      <th>user_id</th>\n",
       "      <th>value_prop</th>\n",
       "      <th></th>\n",
       "    </tr>\n",
       "  </thead>\n",
       "  <tbody>\n",
       "    <tr>\n",
       "      <th rowspan=\"5\" valign=\"top\">1</th>\n",
       "      <th>credits_consumer</th>\n",
       "      <td>1</td>\n",
       "    </tr>\n",
       "    <tr>\n",
       "      <th>link_cobro</th>\n",
       "      <td>0</td>\n",
       "    </tr>\n",
       "    <tr>\n",
       "      <th>point</th>\n",
       "      <td>0</td>\n",
       "    </tr>\n",
       "    <tr>\n",
       "      <th>prepaid</th>\n",
       "      <td>0</td>\n",
       "    </tr>\n",
       "    <tr>\n",
       "      <th>send_money</th>\n",
       "      <td>0</td>\n",
       "    </tr>\n",
       "    <tr>\n",
       "      <th>...</th>\n",
       "      <th>...</th>\n",
       "      <td>...</td>\n",
       "    </tr>\n",
       "    <tr>\n",
       "      <th rowspan=\"5\" valign=\"top\">100000</th>\n",
       "      <th>link_cobro</th>\n",
       "      <td>0</td>\n",
       "    </tr>\n",
       "    <tr>\n",
       "      <th>point</th>\n",
       "      <td>0</td>\n",
       "    </tr>\n",
       "    <tr>\n",
       "      <th>prepaid</th>\n",
       "      <td>1</td>\n",
       "    </tr>\n",
       "    <tr>\n",
       "      <th>send_money</th>\n",
       "      <td>1</td>\n",
       "    </tr>\n",
       "    <tr>\n",
       "      <th>transport</th>\n",
       "      <td>1</td>\n",
       "    </tr>\n",
       "  </tbody>\n",
       "</table>\n",
       "<p>507190 rows × 1 columns</p>\n",
       "</div>"
      ],
      "text/plain": [
       "                          total\n",
       "user_id value_prop             \n",
       "1       credits_consumer      1\n",
       "        link_cobro            0\n",
       "        point                 0\n",
       "        prepaid               0\n",
       "        send_money            0\n",
       "...                         ...\n",
       "100000  link_cobro            0\n",
       "        point                 0\n",
       "        prepaid               1\n",
       "        send_money            1\n",
       "        transport             1\n",
       "\n",
       "[507190 rows x 1 columns]"
      ]
     },
     "execution_count": 117,
     "metadata": {},
     "output_type": "execute_result"
    }
   ],
   "source": [
    "'''\n",
    "Trazendo os resultados de quantidade de pagamento\n",
    "'''\n",
    "pago"
   ]
  },
  {
   "cell_type": "code",
   "execution_count": 132,
   "metadata": {},
   "outputs": [],
   "source": [
    "'''\n",
    "Agrupando os dados por usuário e value prop para trazer a informação de valor total de pagamentos realizado pelo usuário em\n",
    "cada value prop\n",
    "'''\n",
    "valor_pago = pago = tres_sem_atras.groupby(['user_id','value_prop']).agg({'total': 'sum'})"
   ]
  },
  {
   "cell_type": "code",
   "execution_count": 133,
   "metadata": {},
   "outputs": [
    {
     "data": {
      "text/html": [
       "<div>\n",
       "<style scoped>\n",
       "    .dataframe tbody tr th:only-of-type {\n",
       "        vertical-align: middle;\n",
       "    }\n",
       "\n",
       "    .dataframe tbody tr th {\n",
       "        vertical-align: top;\n",
       "    }\n",
       "\n",
       "    .dataframe thead th {\n",
       "        text-align: right;\n",
       "    }\n",
       "</style>\n",
       "<table border=\"1\" class=\"dataframe\">\n",
       "  <thead>\n",
       "    <tr style=\"text-align: right;\">\n",
       "      <th></th>\n",
       "      <th></th>\n",
       "      <th>total</th>\n",
       "    </tr>\n",
       "    <tr>\n",
       "      <th>user_id</th>\n",
       "      <th>value_prop</th>\n",
       "      <th></th>\n",
       "    </tr>\n",
       "  </thead>\n",
       "  <tbody>\n",
       "    <tr>\n",
       "      <th rowspan=\"5\" valign=\"top\">1</th>\n",
       "      <th>credits_consumer</th>\n",
       "      <td>37.92</td>\n",
       "    </tr>\n",
       "    <tr>\n",
       "      <th>link_cobro</th>\n",
       "      <td>0.00</td>\n",
       "    </tr>\n",
       "    <tr>\n",
       "      <th>point</th>\n",
       "      <td>0.00</td>\n",
       "    </tr>\n",
       "    <tr>\n",
       "      <th>prepaid</th>\n",
       "      <td>0.00</td>\n",
       "    </tr>\n",
       "    <tr>\n",
       "      <th>send_money</th>\n",
       "      <td>0.00</td>\n",
       "    </tr>\n",
       "    <tr>\n",
       "      <th>...</th>\n",
       "      <th>...</th>\n",
       "      <td>...</td>\n",
       "    </tr>\n",
       "    <tr>\n",
       "      <th rowspan=\"5\" valign=\"top\">100000</th>\n",
       "      <th>link_cobro</th>\n",
       "      <td>0.00</td>\n",
       "    </tr>\n",
       "    <tr>\n",
       "      <th>point</th>\n",
       "      <td>0.00</td>\n",
       "    </tr>\n",
       "    <tr>\n",
       "      <th>prepaid</th>\n",
       "      <td>14.37</td>\n",
       "    </tr>\n",
       "    <tr>\n",
       "      <th>send_money</th>\n",
       "      <td>19.31</td>\n",
       "    </tr>\n",
       "    <tr>\n",
       "      <th>transport</th>\n",
       "      <td>2.33</td>\n",
       "    </tr>\n",
       "  </tbody>\n",
       "</table>\n",
       "<p>507190 rows × 1 columns</p>\n",
       "</div>"
      ],
      "text/plain": [
       "                          total\n",
       "user_id value_prop             \n",
       "1       credits_consumer  37.92\n",
       "        link_cobro         0.00\n",
       "        point              0.00\n",
       "        prepaid            0.00\n",
       "        send_money         0.00\n",
       "...                         ...\n",
       "100000  link_cobro         0.00\n",
       "        point              0.00\n",
       "        prepaid           14.37\n",
       "        send_money        19.31\n",
       "        transport          2.33\n",
       "\n",
       "[507190 rows x 1 columns]"
      ]
     },
     "execution_count": 133,
     "metadata": {},
     "output_type": "execute_result"
    }
   ],
   "source": [
    "'''\n",
    "print dos resultados\n",
    "'''\n",
    "valor_pago"
   ]
  }
 ],
 "metadata": {
  "kernelspec": {
   "display_name": "Python 3",
   "language": "python",
   "name": "python3"
  },
  "language_info": {
   "codemirror_mode": {
    "name": "ipython",
    "version": 3
   },
   "file_extension": ".py",
   "mimetype": "text/x-python",
   "name": "python",
   "nbconvert_exporter": "python",
   "pygments_lexer": "ipython3",
   "version": "3.8.6"
  }
 },
 "nbformat": 4,
 "nbformat_minor": 2
}
